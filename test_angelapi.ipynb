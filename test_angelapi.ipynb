{
 "cells": [
  {
   "cell_type": "code",
   "execution_count": 3,
   "metadata": {},
   "outputs": [
    {
     "name": "stderr",
     "output_type": "stream",
     "text": [
      "[I 250515 22:24:33 smartConnect:124] in pool\n"
     ]
    },
    {
     "ename": "TypeError",
     "evalue": "SmartConnect.generateSession() missing 1 required positional argument: 'totp'",
     "output_type": "error",
     "traceback": [
      "\u001b[1;31m---------------------------------------------------------------------------\u001b[0m",
      "\u001b[1;31mTypeError\u001b[0m                                 Traceback (most recent call last)",
      "Input \u001b[1;32mIn [3]\u001b[0m, in \u001b[0;36m<cell line: 15>\u001b[1;34m()\u001b[0m\n\u001b[0;32m     12\u001b[0m obj \u001b[38;5;241m=\u001b[39m SmartConnect(api_key\u001b[38;5;241m=\u001b[39mapi_key)\n\u001b[0;32m     14\u001b[0m \u001b[38;5;66;03m# Login (if required)\u001b[39;00m\n\u001b[1;32m---> 15\u001b[0m data \u001b[38;5;241m=\u001b[39m \u001b[43mobj\u001b[49m\u001b[38;5;241;43m.\u001b[39;49m\u001b[43mgenerateSession\u001b[49m\u001b[43m(\u001b[49m\u001b[43mclient_code\u001b[49m\u001b[43m,\u001b[49m\u001b[43m \u001b[49m\u001b[43mpassword\u001b[49m\u001b[43m)\u001b[49m\n\u001b[0;32m     16\u001b[0m refreshToken \u001b[38;5;241m=\u001b[39m data[\u001b[38;5;124m'\u001b[39m\u001b[38;5;124mdata\u001b[39m\u001b[38;5;124m'\u001b[39m][\u001b[38;5;124m'\u001b[39m\u001b[38;5;124mrefreshToken\u001b[39m\u001b[38;5;124m'\u001b[39m]\n\u001b[0;32m     17\u001b[0m obj\u001b[38;5;241m.\u001b[39msetSessionExpiryHook(refreshToken)\n",
      "\u001b[1;31mTypeError\u001b[0m: SmartConnect.generateSession() missing 1 required positional argument: 'totp'"
     ]
    }
   ],
   "source": [
    "from SmartApi import SmartConnect\n",
    "import pandas as pd\n",
    "import datetime\n",
    "import pyotp\n",
    "\n",
    "# Credentials from screenshot\n",
    "api_key = 'qltg1Kkc'\n",
    "secret_key = 'f1eb237b-b87a-4001-92ae-88988c1a7a52'\n",
    "client_code = 'iamnkr1999'  # Replace with your client code\n",
    "password = 'Ab27061999!'        # Replace with your password\n",
    "\n",
    "totp_secret = '<YOUR_TOTP_SECRET>'  # Get this from your Angel One account\n",
    "totp = pyotp.TOTP(totp_secret).now()\n",
    "\n",
    "# Initialize SmartConnect\n",
    "obj = SmartConnect(api_key=api_key)\n",
    "\n",
    "# Login (if required)\n",
    "data = obj.generateSession(client_code, password)\n",
    "refreshToken = data['data']['refreshToken']\n",
    "obj.setSessionExpiryHook(refreshToken)\n",
    "\n",
    "# Get historical data for TATAMOTORS\n",
    "symbol = 'TATAMOTORS'\n",
    "exchange = 'NSE'\n",
    "interval = 'ONE_MINUTE'  # or 'FIVE_MINUTE', 'DAILY', etc.\n",
    "from_date = '2025-05-01 09:15'\n",
    "to_date = '2025-05-01 15:30'\n",
    "\n",
    "# Fetch instrument token for TATAMOTORS\n",
    "instruments = obj.searchScrip(exchange, symbol)\n",
    "token = instruments['data'][0]['token']\n",
    "\n",
    "# Fetch historical data\n",
    "historical_data = obj.getCandleData(\n",
    "    token=token,\n",
    "    interval=interval,\n",
    "    fromdate=from_date,\n",
    "    todate=to_date,\n",
    "    exchange=exchange\n",
    ")\n",
    "\n",
    "# Convert to DataFrame\n",
    "df = pd.DataFrame(historical_data['data'], columns=['datetime', 'open', 'high', 'low', 'close', 'volume'])\n",
    "print(df)"
   ]
  },
  {
   "cell_type": "code",
   "execution_count": null,
   "metadata": {},
   "outputs": [],
   "source": []
  }
 ],
 "metadata": {
  "kernelspec": {
   "display_name": "ai4code",
   "language": "python",
   "name": "python3"
  },
  "language_info": {
   "codemirror_mode": {
    "name": "ipython",
    "version": 3
   },
   "file_extension": ".py",
   "mimetype": "text/x-python",
   "name": "python",
   "nbconvert_exporter": "python",
   "pygments_lexer": "ipython3",
   "version": "3.10.4"
  }
 },
 "nbformat": 4,
 "nbformat_minor": 2
}
